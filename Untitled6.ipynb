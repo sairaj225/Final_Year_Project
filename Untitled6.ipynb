{
 "cells": [
  {
   "cell_type": "code",
   "execution_count": 2,
   "metadata": {},
   "outputs": [
    {
     "name": "stdout",
     "output_type": "stream",
     "text": [
      "['i', 'me', 'my', 'myself', 'we', 'our', 'ours', 'ourselves', 'you', \"you're\", \"you've\", \"you'll\", \"you'd\", 'your', 'yours', 'yourself', 'yourselves', 'he', 'him', 'his', 'himself', 'she', \"she's\", 'her', 'hers', 'herself', 'it', \"it's\", 'its', 'itself', 'they', 'them', 'their', 'theirs', 'themselves', 'what', 'which', 'who', 'whom', 'this', 'that', \"that'll\", 'these', 'those', 'am', 'is', 'are', 'was', 'were', 'be', 'been', 'being', 'have', 'has', 'had', 'having', 'do', 'does', 'did', 'doing', 'a', 'an', 'the', 'and', 'but', 'if', 'or', 'because', 'as', 'until', 'while', 'of', 'at', 'by', 'for', 'with', 'about', 'against', 'between', 'into', 'through', 'during', 'before', 'after', 'above', 'below', 'to', 'from', 'up', 'down', 'in', 'out', 'on', 'off', 'over', 'under', 'again', 'further', 'then', 'once', 'here', 'there', 'when', 'where', 'why', 'how', 'all', 'any', 'both', 'each', 'few', 'more', 'most', 'other', 'some', 'such', 'no', 'nor', 'not', 'only', 'own', 'same', 'so', 'than', 'too', 'very', 's', 't', 'can', 'will', 'just', 'don', \"don't\", 'should', \"should've\", 'now', 'd', 'll', 'm', 'o', 're', 've', 'y', 'ain', 'aren', \"aren't\", 'couldn', \"couldn't\", 'didn', \"didn't\", 'doesn', \"doesn't\", 'hadn', \"hadn't\", 'hasn', \"hasn't\", 'haven', \"haven't\", 'isn', \"isn't\", 'ma', 'mightn', \"mightn't\", 'mustn', \"mustn't\", 'needn', \"needn't\", 'shan', \"shan't\", 'shouldn', \"shouldn't\", 'wasn', \"wasn't\", 'weren', \"weren't\", 'won', \"won't\", 'wouldn', \"wouldn't\"]\n"
     ]
    }
   ],
   "source": [
    "# Importing NLTK package\n",
    "import nltk\n",
    "# Importing stopwords \n",
    "from nltk.corpus import stopwords\n",
    "# Getting the stopwords of english language\n",
    "stop_words_nltk = stopwords.words('english')\n",
    "print(stop_words_nltk)"
   ]
  },
  {
   "cell_type": "code",
   "execution_count": null,
   "metadata": {},
   "outputs": [],
   "source": []
  },
  {
   "cell_type": "code",
   "execution_count": 6,
   "metadata": {},
   "outputs": [
    {
     "name": "stdout",
     "output_type": "stream",
     "text": [
      "period falling love time met especially met long time\n",
      "could remember say presentation task accounts meeting\n",
      "\n",
      "\n"
     ]
    },
    {
     "name": "stderr",
     "output_type": "stream",
     "text": [
      "[nltk_data] Downloading package stopwords to C:\\Users\\Sai\n",
      "[nltk_data]     raj\\AppData\\Roaming\\nltk_data...\n",
      "[nltk_data]   Package stopwords is already up-to-date!\n"
     ]
    }
   ],
   "source": [
    "# (2) preprocessing - removing the stopwords\n",
    "import nltk\n",
    "from nltk.corpus import stopwords\n",
    "from nltk.tokenize import word_tokenize\n",
    "import re\n",
    "\n",
    "nltk.download('stopwords')\n",
    "stop_words = stopwords.words('english')\n",
    "\n",
    "# Function for removing the stop word from the text\n",
    "def remove_stop_words(data):\n",
    "    sentences = \"\"\n",
    "    data = data.split('\\n')\n",
    "    #print(data)\n",
    "    for text in data:\n",
    "        # Replacing each special character and numbers with a space\n",
    "        text_alphanum = re.sub('[^a-z]', ' ', text)\n",
    "        word_tokens = word_tokenize(text_alphanum)\n",
    "        \n",
    "        # Removing stop words\n",
    "        sentence = ' '.join([w for w in word_tokens if (w not in stop_words)])\n",
    "        sentences += sentence + \"\\n\"\n",
    "        #print(sentence)\n",
    "        \n",
    "    return sentences\n",
    "\n",
    "data = \"\"\" during the period of falling in love, each time that we met and especially when we had not met for a long time\n",
    " when I could not remember what to say about a presentation task at an accounts meeting\n",
    "\"\"\"\n",
    "\n",
    "print(remove_stop_words(data))"
   ]
  },
  {
   "cell_type": "code",
   "execution_count": 10,
   "metadata": {},
   "outputs": [
    {
     "name": "stdout",
     "output_type": "stream",
     "text": [
      "[' during the period of falling in love, each time that we met and especially when we had not met for a long time', ' when I could not remember what to say about a presentation task at an accounts meeting', '']\n"
     ]
    },
    {
     "name": "stderr",
     "output_type": "stream",
     "text": [
      "[nltk_data] Downloading package wordnet to C:\\Users\\Sai\n",
      "[nltk_data]     raj\\AppData\\Roaming\\nltk_data...\n",
      "[nltk_data]   Package wordnet is already up-to-date!\n"
     ]
    }
   ],
   "source": [
    "# (3) preprocessing - text normalization using lemmatization\n",
    "import nltk\n",
    "nltk.download('wordnet')\n",
    "from nltk.stem import WordNetLemmatizer\n",
    "from nltk.tokenize import word_tokenize\n",
    "\n",
    "# word lemmatization (Normalization)\n",
    "def lemmatizer(sentences):\n",
    "    # Init the Wordnet Lemmatizer\n",
    "    lemmatizer = WordNetLemmatizer()\n",
    "    sentences = sentences.split('\\n')\n",
    "    #print(sentences)\n",
    "    lem_text = ''\n",
    "    for line in sentences:\n",
    "        #print(line)\n",
    "        word_tokens = word_tokenize(line)\n",
    "        sentence = ' '.join([lemmatizer.lemmatize(w, 'n') for w in word_tokens])\n",
    "        lem_text += sentence + '\\n'\n",
    "    return sentences\n",
    "                    \n",
    "        \n",
    "data = \"\"\" during the period of falling in love, each time that we met and especially when we had not met for a long time\n",
    " when I could not remember what to say about a presentation task at an accounts meeting\n",
    "\"\"\"\n",
    "\n",
    "print(lemmatizer(data))"
   ]
  },
  {
   "cell_type": "code",
   "execution_count": 17,
   "metadata": {},
   "outputs": [
    {
     "name": "stdout",
     "output_type": "stream",
     "text": [
      "1-gram: ['when', 'I', 'could', 'not', 'remember', 'what', 'to', 'say', 'about']\n",
      "2-gram: ['when I', 'I could', 'could not', 'not remember', 'remember what', 'what to', 'to say', 'say about']\n",
      "3-gram: ['when I could', 'I could not', 'could not remember', 'not remember what', 'remember what to', 'what to say', 'to say about']\n"
     ]
    }
   ],
   "source": [
    "# Function for generating ngrams of words \n",
    "def ngram(token, n):\n",
    "    output = []\n",
    "    for i in range(n-1, len(token)):\n",
    "        ngram = ' '.join(token[i-n+1:i+1])\n",
    "        output.append(ngram)\n",
    "        #print(output)\n",
    "    return output\n",
    "\n",
    "\n",
    "text = \"when I could not remember what to say about\".split()\n",
    "print(\"1-gram:\",ngram(text, 1))\n",
    "print(\"2-gram:\",ngram(text, 2))\n",
    "print(\"3-gram:\",ngram(text, 3))"
   ]
  },
  {
   "cell_type": "code",
   "execution_count": null,
   "metadata": {},
   "outputs": [],
   "source": []
  }
 ],
 "metadata": {
  "kernelspec": {
   "display_name": "Python 3",
   "language": "python",
   "name": "python3"
  },
  "language_info": {
   "codemirror_mode": {
    "name": "ipython",
    "version": 3
   },
   "file_extension": ".py",
   "mimetype": "text/x-python",
   "name": "python",
   "nbconvert_exporter": "python",
   "pygments_lexer": "ipython3",
   "version": "3.8.0"
  }
 },
 "nbformat": 4,
 "nbformat_minor": 4
}
