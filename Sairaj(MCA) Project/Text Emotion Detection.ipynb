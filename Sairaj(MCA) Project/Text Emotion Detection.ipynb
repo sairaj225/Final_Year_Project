{
 "cells": [
  {
   "cell_type": "code",
   "execution_count": 1,
   "metadata": {},
   "outputs": [],
   "source": [
    "import re\n",
    "from collections import Counter\n",
    "from sklearn.model_selection import train_test_split\n",
    "from sklearn.metrics import accuracy_score\n",
    "from sklearn.svm import SVC\n"
   ]
  },
  {
   "cell_type": "code",
   "execution_count": 3,
   "metadata": {},
   "outputs": [
    {
     "name": "stdout",
     "output_type": "stream",
     "text": [
      "[['0. 0. 0. 0. 0. 1. 0.', 'Once I answered my father rudely.'], ['0. 0. 0. 0. 0. 0. 1.', 'When my brother ran away from home and I thought it was because of my continously scolding him.'], ['1. 0. 0. 0. 0. 0. 0.', 'When I saw that I had passed the university entrance exam.  It made me forget all my problems.'], ['0. 1. 0. 0. 0. 0. 0.', 'When I was ten I got shut in the school with a friend.  I had to jump out of a window and cross a beam 10 metres high.'], ['0. 0. 1. 0. 0. 0. 0.', 'When I was told that a boy did not want to be my friend without any apparent reason.'], ['0. 0. 0. 1. 0. 0. 0.', 'When I learnt that a boy I liked had been with a girl for three years.'], ['0. 0. 0. 0. 1. 0. 0.', 'When a very dirty class-mate farted in my  presence.  There was a terrible smell.'], ['0. 0. 0. 0. 0. 1. 0.', 'When I realized that I had a hole in my trousers after having gone for a walk.'], ['0. 0. 0. 0. 0. 0. 1.', 'When I had an argument with my grandfather the day my younger brother was born.'], ['1. 0. 0. 0. 0. 0. 0.', 'When I saw my 16 year old sister at home after having waited for her all night, not knowing where she was.']]\n"
     ]
    }
   ],
   "source": [
    "# (1) preprocessing - reading the dataset\n",
    "# Function for reading the dataset file\n",
    "def read_data(file):\n",
    "    data = []\n",
    "    with open(file, 'r') as f:\n",
    "        for line in f:\n",
    "            line = line.strip()\n",
    "            label = ' '.join(line[1:line.find(\"]\")].strip().split())\n",
    "            text = line[line.find(\"]\")+1:].strip()\n",
    "            data.append([label, text])\n",
    "    return data\n",
    "\n",
    "# File name\n",
    "file = \"c:\\\\Users\\Sai raj\\Desktop\\My Project\\dataset.txt\"\n",
    "data = read_data(file)\n",
    "print(data[:10])\n"
   ]
  },
  {
   "cell_type": "code",
   "execution_count": 11,
   "metadata": {},
   "outputs": [
    {
     "name": "stdout",
     "output_type": "stream",
     "text": [
      "joy       (1. 0. 0. 0. 0. 0. 0.)  1207\n",
      "fear      (0. 1. 0. 0. 0. 0. 0.)  1205\n",
      "sadness   (0. 0. 0. 1. 0. 0. 0.)  1200\n",
      "anger     (0. 0. 1. 0. 0. 0. 0.)  1199\n",
      "guilt     (0. 0. 0. 0. 0. 0. 1.)  1155\n",
      "disgust   (0. 0. 0. 0. 1. 0. 0.)  1153\n",
      "shame     (0. 0. 0. 0. 0. 1. 0.)  1137\n"
     ]
    },
    {
     "data": {
      "image/png": "[encoded data removed]",
      "text/plain": [
       "<Figure size 720x360 with 1 Axes>"
      ]
     },
     "metadata": {
      "needs_background": "light"
     },
     "output_type": "display_data"
    }
   ],
   "source": [
    "l = [\"joy\", 'fear', \"anger\", \"sadness\", \"disgust\", \"shame\", \"guilt\"]\n",
    "l.sort()\n",
    "label_freq = {}\n",
    "for label, _ in data: \n",
    "    label_freq[label] = label_freq.get(label, 0) + 1\n",
    "\n",
    "del label_freq['']\n",
    "#print(label_freq)\n",
    "\n",
    "label_count = {}\n",
    "# print the labels and their counts in sorted order \n",
    "for l in sorted(label_freq, key=label_freq.get, reverse=True):\n",
    "    label_count[convert_label(l, emotions)] = label_freq[l]\n",
    "    print(\"{:10}({})  {}\".format(convert_label(l, emotions), l, label_freq[l]))\n",
    "\n",
    "\n",
    "#print(label_count)\n",
    "\n",
    "import numpy as np\n",
    "import matplotlib.pyplot as plt\n",
    "\n",
    "Emotions = label_count.keys()\n",
    "count = label_count.values()\n",
    "\n",
    "fig = plt.figure(figsize = (10, 5))\n",
    "\n",
    "# creating the bar plot\n",
    "plt.bar(Emotions, count, color = \"blue\",\n",
    "        width = 0.4)\n",
    " \n",
    "plt.xlabel(\"Emotions\")\n",
    "plt.ylabel(\"Number of Samples\")\n",
    "plt.title(\"Emotions Vs Frequency\")\n",
    "\n",
    "# To save the plot in .png format\n",
    "plt.savefig('emotions vs samples.png', dpi=300, bbox_inches='tight')\n",
    "\n",
    "plt.show()\n",
    "\n"
   ]
  },
  {
   "cell_type": "code",
   "execution_count": 5,
   "metadata": {},
   "outputs": [
    {
     "name": "stderr",
     "output_type": "stream",
     "text": [
      "[nltk_data] Downloading package stopwords to C:\\Users\\Sai\n",
      "[nltk_data]     raj\\AppData\\Roaming\\nltk_data...\n",
      "[nltk_data]   Package stopwords is already up-to-date!\n"
     ]
    }
   ],
   "source": [
    "# (2) preprocessing - removing the stopwords\n",
    "import nltk\n",
    "from nltk.corpus import stopwords\n",
    "from nltk.tokenize import word_tokenize\n",
    "import re\n",
    "\n",
    "nltk.download('stopwords')\n",
    "stop_words = stopwords.words('english')\n",
    "\n",
    "# Function for removing the stop word from the text\n",
    "def remove_stop_words(data):\n",
    "    sentences = \"\"\n",
    "    data = data.split('\\n')\n",
    "    #print(data)\n",
    "    for text in data:\n",
    "        # Replacing each special character and numbers with a space\n",
    "        text_alphanum = re.sub('[^a-z]', ' ', text)\n",
    "        word_tokens = word_tokenize(text_alphanum)\n",
    "        \n",
    "        # Removing stop words\n",
    "        sentence = ' '.join([w for w in word_tokens if (w not in stop_words)])\n",
    "        sentences += sentence + \"\\n\"\n",
    "        #print(sentence)\n",
    "        \n",
    "    return sentence\n",
    "\n",
    "\n"
   ]
  },
  {
   "cell_type": "code",
   "execution_count": 6,
   "metadata": {},
   "outputs": [
    {
     "name": "stderr",
     "output_type": "stream",
     "text": [
      "[nltk_data] Downloading package wordnet to C:\\Users\\Sai\n",
      "[nltk_data]     raj\\AppData\\Roaming\\nltk_data...\n",
      "[nltk_data]   Package wordnet is already up-to-date!\n"
     ]
    }
   ],
   "source": [
    "# (3) preprocessing - text normalization using lemmatization\n",
    "import nltk\n",
    "nltk.download('wordnet')\n",
    "from nltk.stem import WordNetLemmatizer\n",
    "from nltk.tokenize import word_tokenize\n",
    "\n",
    "text_word_cloud = ''\n",
    "# word lemmatization (Normalization)\n",
    "def noun_lemmatizer(sentences):\n",
    "    # Init the Wordnet Lemmatizer\n",
    "    lemmatizer = WordNetLemmatizer()\n",
    "    sentences = sentences.split('\\n')\n",
    "    #print(sentences)\n",
    "    lem_text = ''\n",
    "    for line in sentences:\n",
    "        #print(line)\n",
    "        word_tokens = word_tokenize(line)\n",
    "        sentence = ' '.join([lemmatizer.lemmatize(w, 'n') for w in word_tokens])\n",
    "        lem_text += sentence + '\\n'\n",
    "    text_word_cloud = lem_text\n",
    "    return lem_text\n"
   ]
  },
  {
   "cell_type": "code",
   "execution_count": 7,
   "metadata": {},
   "outputs": [],
   "source": [
    "# Function for generating ngrams of words \n",
    "def ngram(token, n):\n",
    "    output = []\n",
    "    for i in range(n-1, len(token)):\n",
    "        ngram = ' '.join(token[i-n+1:i+1])\n",
    "        output.append(ngram)\n",
    "        #print(output)\n",
    "    return output\n",
    "\n",
    "# Function for creating feature\n",
    "def create_feature(text, nrange=(1,1)):\n",
    "    text_features = []\n",
    "    text = text.lower()\n",
    "    ###################\n",
    "    #print(text)\n",
    "    text = remove_stop_words(text)\n",
    "    #print(text)\n",
    "    text = noun_lemmatizer(text)\n",
    "    #print(text)\n",
    "    ###################\n",
    "    text_alphanum = text\n",
    "    #print(text_alphanum)\n",
    "    for n in range(nrange[0], nrange[1]+1):\n",
    "        text_features += ngram(text_alphanum.split(), n)\n",
    "    text_punc = re.sub('[a-z0-9]', ' ', text)\n",
    "    #print(text_punc)\n",
    "    text_features += ngram(text_punc.split(), 1)\n",
    "    #print(Counter(text_features))\n",
    "    return Counter(text_features)"
   ]
  },
  {
   "cell_type": "code",
   "execution_count": 8,
   "metadata": {},
   "outputs": [],
   "source": [
    "def convert_label(item, name):\n",
    "    #print(item)\n",
    "    items = list(map(float, item.split()))\n",
    "    label = \"\"\n",
    "    for idx in range(len(items)):\n",
    "        if items[idx] == 1:\n",
    "            label += name[idx] + \" \"\n",
    "    return label.strip()\n",
    "\n",
    "emotions = [\"joy\", \"fear\", \"anger\", \"sadness\", \"disgust\", \"shame\", \"guilt\"]\n",
    "\n",
    "X_all = []\n",
    "Y_all = []\n",
    "text_word_cloud = ''\n",
    "for label, text in data:\n",
    "    text_word_cloud += \" \" + text\n",
    "    Y_all.append(convert_label(label, emotions))\n",
    "    X_all.append(create_feature(text, nrange=(1, 4)))\n"
   ]
  },
  {
   "cell_type": "code",
   "execution_count": 9,
   "metadata": {},
   "outputs": [],
   "source": [
    "from sklearn import preprocessing\n",
    "def labels_to_numbers(lables):\n",
    "    le = preprocessing.LabelEncoder()\n",
    "    le.fit(lables)\n",
    "    li = le.transform(lables)\n",
    "    return list(li)\n",
    "\n",
    "\n",
    "from sklearn.metrics import precision_score\n",
    "#y_true = [4, 2, 0, 5, 1, 6, 3, 4, 2, 0, 5, 1, 6, 3, 4, 2, 0, 5, 1, 6, 3]\n",
    "#y_pred = [4, 2, 0, 5, 1, 6, 3, 4, 2, 0, 5, 1, 6, 7, 4, 2, 0, 5, 1, 6, 3]\n",
    "#print(precision_score(y_true, y_pred, average='micro'))\n",
    "\n",
    "def find_precision(y_true, y_pred):\n",
    "    y_true = labels_to_numbers(y_true)\n",
    "    #print(y_true)\n",
    "    y_pred = labels_to_numbers(y_pred)\n",
    "    #print(y_pred)\n",
    "    result = precision_score(y_true, y_pred, average='macro')\n",
    "    return result\n",
    "\n",
    "\n",
    "#y_true = [\"joy\", \"fear\", \"anger\", \"sadness\", \"disgust\", \"shame\", \"guilt\", \"sadness\", \"disgust\", \"shame\", \"guilt\"]\n",
    "#y_pred = [\"joy\", \"fear\", \"anger\", \"sadness\", \"disgust\", \"shame\", \"guilt\", \"sadness\", \"disgust\", \"shame\", \"guilt\"]\n",
    "\n",
    "#print(find_precision(y_true, y_pred))"
   ]
  },
  {
   "cell_type": "code",
   "execution_count": 10,
   "metadata": {},
   "outputs": [],
   "source": [
    "from sklearn.metrics import precision_recall_fscore_support\n",
    "#(1) Spliting the dataset training-80% | testing-20%\n",
    "X_train, X_test, y_train, y_test = train_test_split(X_all, Y_all, test_size = 0.2, random_state = 123)\n",
    "\n",
    "#print(X_test)\n",
    "#print(y_test[:100])\n",
    "\n",
    "def train_test(clf, X_train, X_test, y_train, y_test):\n",
    "    clf.fit(X_train, y_train)\n",
    "    train_acc = accuracy_score(y_train, clf.predict(X_train))\n",
    "    test_acc = accuracy_score(y_test, clf.predict(X_test))\n",
    "    #precision = find_precision(y_test, clf.predict(X_test))\n",
    "    precision, recall, f1_score, support = precision_recall_fscore_support(y_test, clf.predict(X_test), average='macro')\n",
    "    return train_acc, test_acc, precision, recall, f1_score\n",
    "\n",
    "\n",
    "\n",
    "from sklearn.feature_extraction import DictVectorizer\n",
    "vectorizer = DictVectorizer(sparse = True)\n",
    "X_train = vectorizer.fit_transform(X_train)\n",
    "X_test = vectorizer.transform(X_test)\n",
    "#print(X_test.toarray())"
   ]
  },
  {
   "cell_type": "code",
   "execution_count": 12,
   "metadata": {},
   "outputs": [
    {
     "name": "stdout",
     "output_type": "stream",
     "text": [
      "| SVM Kernals               | Training Accuracy | Test Accuracy | Precision     | Recall        | F1 Score      | \n",
      "| ------------------------- | ----------------- | ------------- | ------------- | ------------- | ------------- |\n",
      "| Linear SVM                |         0.9953066 |     0.8147700 |     0.8147114 |     0.8150066 |     0.8143066 |\n",
      "| Radial basis function     |         0.9653293 |     0.7935835 |     0.8004252 |     0.7923994 |     0.7917858 |\n",
      "| Polynomial function       |         0.5417108 |     0.3728814 |     0.8794955 |     0.3695663 |     0.4034343 |\n",
      "| Sigmoid function          |         0.9233914 |     0.7475787 |     0.7484564 |     0.7490715 |     0.7455942 |\n"
     ]
    }
   ],
   "source": [
    "from sklearn.svm import SVC\n",
    "linear_svm = SVC(kernel='linear')\n",
    "rbf_svm = SVC(kernel ='rbf', random_state = 0)\n",
    "poly_svm = SVC(kernel='poly', degree=8)\n",
    "sigmoid_svm = SVC(kernel ='sigmoid')\n",
    "\n",
    "clifs = [linear_svm, rbf_svm, poly_svm, sigmoid_svm]\n",
    "kernals = [\"Linear SVM\", \"Radial basis function\", \"Polynomial function\", \"Sigmoid function\"]\n",
    "\n",
    "# train and test them \n",
    "print(\"| {:25} | {} | {} | {:13} | {:13} | {:13} | \".format(\"SVM Kernals\", \"Training Accuracy\", \"Test Accuracy\", \n",
    "                                                                   \"Precision\", \"Recall\", \"F1 Score\"))\n",
    "print(\"| {} | {} | {} | {} | {} | {} |\".format(\"-\"*25, \"-\"*17, \"-\"*13, \"-\"*13, \"-\"*13, \"-\"*13))\n",
    "i=0\n",
    "for clf in clifs: \n",
    "    clf_name = clf.__class__.__name__\n",
    "    train_acc, test_acc, precision, recall, f1_score= train_test(clf, X_train, X_test, y_train, y_test)\n",
    "    print(\"| {:25} | {:17.7f} | {:13.7f} | {:13.7f} | {:13.7f} | {:13.7f} |\".format(kernals[i], train_acc, \n",
    "                                                                                               test_acc, precision, recall, \n",
    "                                                                                               f1_score))\n",
    "    i = i+1"
   ]
  },
  {
   "cell_type": "code",
   "execution_count": 13,
   "metadata": {},
   "outputs": [
    {
     "data": {
      "image/png": "[encoded data removed]",
      "text/plain": [
       "<Figure size 432x288 with 2 Axes>"
      ]
     },
     "metadata": {
      "needs_background": "light"
     },
     "output_type": "display_data"
    }
   ],
   "source": [
    "import matplotlib.pyplot as plt  \n",
    "from sklearn.metrics import plot_confusion_matrix\n",
    "\n",
    "clf = clifs[0]\n",
    "clf.fit(X_train, y_train)\n",
    "\n",
    "\n",
    "disp = plot_confusion_matrix(clf, X_test, y_test)  \n",
    "disp.ax_.set_title(\"Confusion Matrix\")\n",
    "\n",
    "# To save the plot in .png format\n",
    "plt.savefig('Confusion Matrix.png', dpi=300, bbox_inches='tight')\n",
    "\n",
    "plt.show() "
   ]
  },
  {
   "cell_type": "code",
   "execution_count": 35,
   "metadata": {},
   "outputs": [
    {
     "name": "stdout",
     "output_type": "stream",
     "text": [
      "i'm very good today => joy 😂\n",
      "I was thinking about death => fear 😱\n",
      "He does something wrong which affects me negatively => anger 😠\n",
      "When my gradmother died. => sadness 😢\n",
      "bad smelling wash room => disgust 🤢\n",
      "He was caught stealing apples in a neighbor's garden. => shame 😳\n",
      "I realized it was my mistake => guilt 😕\n"
     ]
    }
   ],
   "source": [
    "emoji_dict = {\"joy\":\"😂\", \"fear\":\"😱\", \"anger\":\"😠\", \"sadness\":\"😢\", \"disgust\":\"🤢\", \"shame\":\"😳\", \"guilt\":\"😕\"}\n",
    "\n",
    "txt1 = \"i'm very good today\"\n",
    "txt2 = \"I was thinking about death\"\n",
    "txt3 = \"He does something wrong which affects me negatively\"\n",
    "txt4 = \"When my gradmother died.\"\n",
    "txt5 = \"bad smelling wash room\"\n",
    "txt6 = \"He was caught stealing apples in a neighbor's garden.\"\n",
    "txt7 = \"I realized it was my mistake\"\n",
    "\n",
    "texts = [txt1, txt2, txt3, txt4, txt5, txt6, txt7]\n",
    "for text in texts: \n",
    "    features = create_feature(text, nrange=(1, 4))\n",
    "    features = vectorizer.transform(features)\n",
    "    \n",
    "    prediction = clf.predict(features)[0]\n",
    "    #print(prediction)\n",
    "    print( text, \"=>\",prediction, emoji_dict[prediction])"
   ]
  },
  {
   "cell_type": "code",
   "execution_count": 55,
   "metadata": {},
   "outputs": [],
   "source": [
    "from sklearn import preprocessing\n",
    "def labels_to_numbers(lables):\n",
    "    le = preprocessing.LabelEncoder()\n",
    "    le.fit(s)\n",
    "    li = le.transform(s)\n",
    "    return list(li)"
   ]
  },
  {
   "cell_type": "code",
   "execution_count": 56,
   "metadata": {},
   "outputs": [],
   "source": [
    "from sklearn.metrics import precision_score\n",
    "#y_true = [4, 2, 0, 5, 1, 6, 3, 4, 2, 0, 5, 1, 6, 3, 4, 2, 0, 5, 1, 6, 3]\n",
    "#y_pred = [4, 2, 0, 5, 1, 6, 3, 4, 2, 0, 5, 1, 6, 7, 4, 2, 0, 5, 1, 6, 3]\n",
    "#print(precision_score(y_true, y_pred, average='micro'))\n",
    "\n",
    "def find_precision(y_true, y_pred):\n",
    "    y_true = labels_to_numbers(y_true)\n",
    "    y_pred = labels_to_numbers(y_pred)\n",
    "    result = precision_score(y_true, y_pred, average='micro')\n",
    "    return result\n",
    "\n",
    "\n",
    "#y_true = [\"joy\", \"fear\", \"anger\", \"sadness\", \"disgust\", \"shame\", \"guilt\", \"sadness\", \"disgust\", \"shame\", \"guilt\"]\n",
    "#y_pred = [\"joy\", \"fear\", \"anger\", \"sadness\", \"disgust\", \"shame\", \"guilt\", \"sadness\", \"disgust\", \"shame\", \"guilt\"]\n",
    "\n",
    "#print(find_precision(y_true, y_pred))"
   ]
  },
  {
   "cell_type": "code",
   "execution_count": 57,
   "metadata": {},
   "outputs": [
    {
     "name": "stdout",
     "output_type": "stream",
     "text": [
      "0.2222222222222222 0.3333333333333333 0.26666666666666666 None\n"
     ]
    }
   ],
   "source": [
    "from sklearn.metrics import precision_recall_fscore_support\n",
    "import numpy as np\n",
    "y_true = np.array(['cat', 'dog', 'pig', 'cat', 'dog', 'pig'])\n",
    "y_pred = np.array(['cat', 'pig', 'dog', 'cat', 'cat', 'dog'])\n",
    "p, r, s , n = precision_recall_fscore_support(y_true, y_pred, average='macro')\n",
    "print(p, r, s, n)"
   ]
  },
  {
   "cell_type": "code",
   "execution_count": 1,
   "metadata": {},
   "outputs": [
    {
     "ename": "NameError",
     "evalue": "name 'text_word_cloud' is not defined",
     "output_type": "error",
     "traceback": [
      "\u001b[1;31m---------------------------------------------------------------------------\u001b[0m",
      "\u001b[1;31mNameError\u001b[0m                                 Traceback (most recent call last)",
      "\u001b[1;32m<ipython-input-1-8a3ce3556bf7>\u001b[0m in \u001b[0;36m<module>\u001b[1;34m\u001b[0m\n\u001b[0;32m      5\u001b[0m \u001b[1;33m\u001b[0m\u001b[0m\n\u001b[0;32m      6\u001b[0m \u001b[1;31m# Generate a word cloud image\u001b[0m\u001b[1;33m\u001b[0m\u001b[1;33m\u001b[0m\u001b[1;33m\u001b[0m\u001b[0m\n\u001b[1;32m----> 7\u001b[1;33m \u001b[0mwordcloud\u001b[0m \u001b[1;33m=\u001b[0m \u001b[0mWordCloud\u001b[0m\u001b[1;33m(\u001b[0m\u001b[0mbackground_color\u001b[0m\u001b[1;33m=\u001b[0m\u001b[1;34m\"white\"\u001b[0m\u001b[1;33m)\u001b[0m\u001b[1;33m.\u001b[0m\u001b[0mgenerate\u001b[0m\u001b[1;33m(\u001b[0m\u001b[0mtext_word_cloud\u001b[0m\u001b[1;33m)\u001b[0m\u001b[1;33m\u001b[0m\u001b[1;33m\u001b[0m\u001b[0m\n\u001b[0m\u001b[0;32m      8\u001b[0m \u001b[1;33m\u001b[0m\u001b[0m\n\u001b[0;32m      9\u001b[0m \u001b[1;33m\u001b[0m\u001b[0m\n",
      "\u001b[1;31mNameError\u001b[0m: name 'text_word_cloud' is not defined"
     ]
    }
   ],
   "source": [
    "from PIL import Image\n",
    "from wordcloud import WordCloud\n",
    "\n",
    "import matplotlib.pyplot as plt\n",
    "\n",
    "# Generate a word cloud image\n",
    "wordcloud = WordCloud(background_color=\"white\").generate(text_word_cloud)\n",
    "\n",
    "\n",
    "f = plt.figure()\n",
    "f.set_figwidth(200)\n",
    "f.set_figheight(200) \n",
    "\n",
    "# Display the generated image:\n",
    "# the matplotlib way:\n",
    "plt.imshow(wordcloud, interpolation='bilinear')\n",
    "plt.axis(\"off\")\n",
    "# To save the plot in .png format\n",
    "plt.savefig('wordcloud.png', dpi=300, bbox_inches='tight')\n",
    "plt.show()"
   ]
  }
 ],
 "metadata": {
  "kernelspec": {
   "display_name": "Python 3",
   "language": "python",
   "name": "python3"
  },
  "language_info": {
   "codemirror_mode": {
    "name": "ipython",
    "version": 3
   },
   "file_extension": ".py",
   "mimetype": "text/x-python",
   "name": "python",
   "nbconvert_exporter": "python",
   "pygments_lexer": "ipython3",
   "version": "3.8.0"
  }
 },
 "nbformat": 4,
 "nbformat_minor": 4
}
