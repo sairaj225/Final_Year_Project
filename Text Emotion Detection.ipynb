{
 "cells": [
  {
   "cell_type": "code",
   "execution_count": 46,
   "metadata": {},
   "outputs": [],
   "source": [
    "import re\n",
    "from collections import Counter\n",
    "from sklearn.model_selection import train_test_split\n",
    "from sklearn.metrics import accuracy_score\n",
    "from sklearn.svm import SVC\n"
   ]
  },
  {
   "cell_type": "code",
   "execution_count": 47,
   "metadata": {},
   "outputs": [],
   "source": [
    "# (1) preprocessing - reading the dataset\n",
    "# Function for reading the dataset file\n",
    "def read_data(file):\n",
    "    data = []\n",
    "    with open(file, 'r') as f:\n",
    "        for line in f:\n",
    "            line = line.strip()\n",
    "            label = ' '.join(line[1:line.find(\"]\")].strip().split())\n",
    "            text = line[line.find(\"]\")+1:].strip()\n",
    "            data.append([label, text])\n",
    "    return data\n",
    "\n",
    "# File name\n",
    "file = \"c:\\\\Users\\Sai raj\\Desktop\\My Project\\dataset.txt\"\n",
    "data = read_data(file)\n",
    "#print(data[:10])\n"
   ]
  },
  {
   "cell_type": "code",
   "execution_count": 48,
   "metadata": {},
   "outputs": [
    {
     "name": "stderr",
     "output_type": "stream",
     "text": [
      "[nltk_data] Downloading package stopwords to C:\\Users\\Sai\n",
      "[nltk_data]     raj\\AppData\\Roaming\\nltk_data...\n",
      "[nltk_data]   Package stopwords is already up-to-date!\n"
     ]
    }
   ],
   "source": [
    "# (2) preprocessing - removing the stopwords\n",
    "import nltk\n",
    "from nltk.corpus import stopwords\n",
    "from nltk.tokenize import word_tokenize\n",
    "import re\n",
    "\n",
    "nltk.download('stopwords')\n",
    "stop_words = stopwords.words('english')\n",
    "\n",
    "# Function for removing the stop word from the text\n",
    "def remove_stop_words(data):\n",
    "    sentences = \"\"\n",
    "    data = data.split('\\n')\n",
    "    #print(data)\n",
    "    for text in data:\n",
    "        # Replacing each special character and numbers with a space\n",
    "        text_alphanum = re.sub('[^a-z]', ' ', text)\n",
    "        word_tokens = word_tokenize(text_alphanum)\n",
    "        \n",
    "        # Removing stop words\n",
    "        sentence = ' '.join([w for w in word_tokens if (w not in stop_words)])\n",
    "        sentences += sentence + \"\\n\"\n",
    "        #print(sentence)\n",
    "        \n",
    "    return sentence\n",
    "\n",
    "\n"
   ]
  },
  {
   "cell_type": "code",
   "execution_count": 49,
   "metadata": {},
   "outputs": [
    {
     "name": "stderr",
     "output_type": "stream",
     "text": [
      "[nltk_data] Downloading package wordnet to C:\\Users\\Sai\n",
      "[nltk_data]     raj\\AppData\\Roaming\\nltk_data...\n",
      "[nltk_data]   Package wordnet is already up-to-date!\n"
     ]
    }
   ],
   "source": [
    "# (3) preprocessing - text normalization using lemmatization\n",
    "import nltk\n",
    "nltk.download('wordnet')\n",
    "from nltk.stem import WordNetLemmatizer\n",
    "from nltk.tokenize import word_tokenize\n",
    "\n",
    "# word lemmatization (Normalization)\n",
    "def noun_lemmatizer(sentences):\n",
    "    # Init the Wordnet Lemmatizer\n",
    "    lemmatizer = WordNetLemmatizer()\n",
    "    sentences = sentences.split('\\n')\n",
    "    #print(sentences)\n",
    "    lem_text = ''\n",
    "    for line in sentences:\n",
    "        #print(line)\n",
    "        word_tokens = word_tokenize(line)\n",
    "        sentence = ' '.join([lemmatizer.lemmatize(w, 'n') for w in word_tokens])\n",
    "        lem_text += sentence + '\\n'\n",
    "    return lem_text"
   ]
  },
  {
   "cell_type": "code",
   "execution_count": 50,
   "metadata": {},
   "outputs": [],
   "source": [
    "# Function for generating ngrams of words \n",
    "def ngram(token, n):\n",
    "    output = []\n",
    "    for i in range(n-1, len(token)):\n",
    "        ngram = ' '.join(token[i-n+1:i+1])\n",
    "        output.append(ngram)\n",
    "        #print(output)\n",
    "    return output\n",
    "\n",
    "# Function for creating feature\n",
    "def create_feature(text, nrange=(1,1)):\n",
    "    text_features = []\n",
    "    text = text.lower()\n",
    "    ###################\n",
    "    #print(text)\n",
    "    text = remove_stop_words(text)\n",
    "    #print(text)\n",
    "    text = noun_lemmatizer(text)\n",
    "    #print(text)\n",
    "    ###################\n",
    "    text_alphanum = text\n",
    "    #print(text_alphanum)\n",
    "    for n in range(nrange[0], nrange[1]+1):\n",
    "        text_features += ngram(text_alphanum.split(), n)\n",
    "    text_punc = re.sub('[a-z0-9]', ' ', text)\n",
    "    #print(text_punc)\n",
    "    text_features += ngram(text_punc.split(), 1)\n",
    "    #print(Counter(text_features))\n",
    "    return Counter(text_features)"
   ]
  },
  {
   "cell_type": "code",
   "execution_count": 51,
   "metadata": {},
   "outputs": [],
   "source": [
    "def convert_label(item, name):\n",
    "    #print(item)\n",
    "    items = list(map(float, item.split()))\n",
    "    label = \"\"\n",
    "    for idx in range(len(items)):\n",
    "        if items[idx] == 1:\n",
    "            label += name[idx] + \" \"\n",
    "    return label.strip()\n",
    "\n",
    "emotions = [\"joy\", \"fear\", \"anger\", \"sadness\", \"disgust\", \"shame\", \"guilt\"]\n",
    "\n",
    "X_all = []\n",
    "Y_all = []\n",
    "for label, text in data:\n",
    "    Y_all.append(convert_label(label, emotions))\n",
    "    X_all.append(create_feature(text, nrange=(1, 4)))\n"
   ]
  },
  {
   "cell_type": "code",
   "execution_count": 52,
   "metadata": {},
   "outputs": [],
   "source": [
    "from sklearn import preprocessing\n",
    "def labels_to_numbers(lables):\n",
    "    le = preprocessing.LabelEncoder()\n",
    "    le.fit(s)\n",
    "    li = le.transform(s)\n",
    "    return list(li)\n",
    "\n",
    "\n",
    "from sklearn.metrics import precision_score\n",
    "#y_true = [4, 2, 0, 5, 1, 6, 3, 4, 2, 0, 5, 1, 6, 3, 4, 2, 0, 5, 1, 6, 3]\n",
    "#y_pred = [4, 2, 0, 5, 1, 6, 3, 4, 2, 0, 5, 1, 6, 7, 4, 2, 0, 5, 1, 6, 3]\n",
    "#print(precision_score(y_true, y_pred, average='micro'))\n",
    "\n",
    "def find_precision(y_true, y_pred):\n",
    "    y_true = labels_to_numbers(y_true)\n",
    "    y_pred = labels_to_numbers(y_pred)\n",
    "    result = precision_score(y_true, y_pred, average='micro')\n",
    "    return result\n",
    "\n",
    "\n",
    "#y_true = [\"joy\", \"fear\", \"anger\", \"sadness\", \"disgust\", \"shame\", \"guilt\", \"sadness\", \"disgust\", \"shame\", \"guilt\"]\n",
    "#y_pred = [\"joy\", \"fear\", \"anger\", \"sadness\", \"disgust\", \"shame\", \"guilt\", \"sadness\", \"disgust\", \"shame\", \"guilt\"]\n",
    "\n",
    "#print(find_precision(y_true, y_pred))"
   ]
  },
  {
   "cell_type": "code",
   "execution_count": 53,
   "metadata": {},
   "outputs": [],
   "source": [
    "#(1) Spliting the dataset training-80% | testing-20%\n",
    "X_train, X_test, y_train, y_test = train_test_split(X_all, Y_all, test_size = 0.2, random_state = 123)\n",
    "\n",
    "#print(X_test)\n",
    "#print(y_test[:100])\n",
    "\n",
    "def train_test(clf, X_train, X_test, y_train, y_test):\n",
    "    clf.fit(X_train, y_train)\n",
    "    train_acc = accuracy_score(y_train, clf.predict(X_train))\n",
    "    test_acc = accuracy_score(y_test, clf.predict(X_test))\n",
    "    precision = find_precision(y_test, clf.predict(X_test))\n",
    "    return train_acc, test_acc, precision\n",
    "\n",
    "\n",
    "\n",
    "from sklearn.feature_extraction import DictVectorizer\n",
    "vectorizer = DictVectorizer(sparse = True)\n",
    "X_train = vectorizer.fit_transform(X_train)\n",
    "X_test = vectorizer.transform(X_test)\n",
    "#print(X_test.toarray())"
   ]
  },
  {
   "cell_type": "code",
   "execution_count": 54,
   "metadata": {},
   "outputs": [
    {
     "name": "stdout",
     "output_type": "stream",
     "text": [
      "| SVM Kernals               | Training Accuracy | Test Accuracy | Precision |\n",
      "| ------------------------- | ----------------- | ------------- | ------------- |\n",
      "| Linear SVM                |         0.9953066 |     0.8147700 |     1.0000000 |\n",
      "| Radial basis function     |         0.9653293 |     0.7935835 |     1.0000000 |\n",
      "| Polynomial function       |         0.5417108 |     0.3728814 |     1.0000000 |\n",
      "| Sigmoid function          |         0.9233914 |     0.7475787 |     1.0000000 |\n"
     ]
    }
   ],
   "source": [
    "from sklearn.svm import SVC\n",
    "linear_svm = SVC(kernel='linear')\n",
    "rbf_svm = SVC(kernel ='rbf', random_state = 0)\n",
    "poly_svm = SVC(kernel='poly', degree=8)\n",
    "sigmoid_svm = SVC(kernel ='sigmoid')\n",
    "\n",
    "clifs = [linear_svm, rbf_svm, poly_svm, sigmoid_svm]\n",
    "kernals = [\"Linear SVM\", \"Radial basis function\", \"Polynomial function\", \"Sigmoid function\"]\n",
    "\n",
    "# train and test them \n",
    "print(\"| {:25} | {} | {} | {} |\".format(\"SVM Kernals\", \"Training Accuracy\", \"Test Accuracy\", \"Precision\"))\n",
    "print(\"| {} | {} | {} | {} |\".format(\"-\"*25, \"-\"*17, \"-\"*13, \"-\"*13))\n",
    "i=0\n",
    "for clf in clifs: \n",
    "    clf_name = clf.__class__.__name__\n",
    "    train_acc, test_acc, precision = train_test(clf, X_train, X_test, y_train, y_test)\n",
    "    print(\"| {:25} | {:17.7f} | {:13.7f} | {:13.7f} |\".format(kernals[i], train_acc, test_acc, precision))\n",
    "    i = i+1"
   ]
  },
  {
   "cell_type": "code",
   "execution_count": 13,
   "metadata": {},
   "outputs": [
    {
     "name": "stdout",
     "output_type": "stream",
     "text": [
      "sadness\n",
      "I was thinking about death 😢\n",
      "disgust\n",
      "you are awsome 😒\n",
      "fear\n",
      "I crashed my father's car 😱\n",
      "joy\n",
      "i'm very good today 😂\n"
     ]
    }
   ],
   "source": [
    "emoji_dict = {\"joy\":\"😂\", \"fear\":\"😱\", \"anger\":\"😠\", \"sadness\":\"😢\", \"disgust\":\"😒\", \"shame\":\"😳\", \"guilt\":\"😳\"}\n",
    "txt1 = \"I was thinking about death\"\n",
    "txt2 = \"you are awsome\"\n",
    "txt3 = \"I crashed my father's car\"\n",
    "txt4 = \"i'm very good today\"\n",
    "texts = [txt1, txt2, txt3, txt4]\n",
    "for text in texts: \n",
    "    features = create_feature(text, nrange=(1, 4))\n",
    "    features = vectorizer.transform(features)\n",
    "    prediction = clf.predict(features)[0]\n",
    "    print(prediction)\n",
    "    print( text,emoji_dict[prediction])"
   ]
  },
  {
   "cell_type": "code",
   "execution_count": 39,
   "metadata": {},
   "outputs": [],
   "source": [
    "from sklearn import preprocessing\n",
    "def labels_to_numbers(lables):\n",
    "    le = preprocessing.LabelEncoder()\n",
    "    le.fit(s)\n",
    "    li = le.transform(s)\n",
    "    return list(li)"
   ]
  },
  {
   "cell_type": "code",
   "execution_count": 40,
   "metadata": {},
   "outputs": [
    {
     "name": "stdout",
     "output_type": "stream",
     "text": [
      "1.0\n"
     ]
    }
   ],
   "source": [
    "from sklearn.metrics import precision_score\n",
    "#y_true = [4, 2, 0, 5, 1, 6, 3, 4, 2, 0, 5, 1, 6, 3, 4, 2, 0, 5, 1, 6, 3]\n",
    "#y_pred = [4, 2, 0, 5, 1, 6, 3, 4, 2, 0, 5, 1, 6, 7, 4, 2, 0, 5, 1, 6, 3]\n",
    "#print(precision_score(y_true, y_pred, average='micro'))\n",
    "\n",
    "def find_precision(y_true, y_pred):\n",
    "    y_true = labels_to_numbers(y_true)\n",
    "    y_pred = labels_to_numbers(y_pred)\n",
    "    result = precision_score(y_true, y_pred, average='micro')\n",
    "    return result\n",
    "\n",
    "\n",
    "#y_true = [\"joy\", \"fear\", \"anger\", \"sadness\", \"disgust\", \"shame\", \"guilt\", \"sadness\", \"disgust\", \"shame\", \"guilt\"]\n",
    "#y_pred = [\"joy\", \"fear\", \"anger\", \"sadness\", \"disgust\", \"shame\", \"guilt\", \"sadness\", \"disgust\", \"shame\", \"guilt\"]\n",
    "\n",
    "#print(find_precision(y_true, y_pred))"
   ]
  }
 ],
 "metadata": {
  "kernelspec": {
   "display_name": "Python 3",
   "language": "python",
   "name": "python3"
  },
  "language_info": {
   "codemirror_mode": {
    "name": "ipython",
    "version": 3
   },
   "file_extension": ".py",
   "mimetype": "text/x-python",
   "name": "python",
   "nbconvert_exporter": "python",
   "pygments_lexer": "ipython3",
   "version": "3.8.0"
  }
 },
 "nbformat": 4,
 "nbformat_minor": 4
}
